{
 "cells": [
  {
   "cell_type": "code",
   "execution_count": 4,
   "metadata": {},
   "outputs": [
    {
     "name": "stdout",
     "output_type": "stream",
     "text": [
      "  4     8     3   |  9     2     1   |  6     5     7   \n",
      "  9     6     7   |  3     4     5   |  8     2     1   \n",
      "  2     5     1   |  8     7     6   |  4     9     3   \n",
      "------------------+------------------+------------------\n",
      "  5    345    8   |  1    3456   2   |  9     7     6   \n",
      "  7     2     9   |  5   34569   4   |  1   13456   8   \n",
      "  1   13459   6   |  7    3459   8   |  2    1345   5   \n",
      "------------------+------------------+------------------\n",
      "  3     7     2   |  6     8     9   |  5     1     4   \n",
      "  8     1     4   |  2     5     3   |  7     6     9   \n",
      "  6     9     5   |  4     1     7   |  3     8     2   \n"
     ]
    }
   ],
   "source": [
    "from utils import *\n",
    "\n",
    "def only_choice(values):\n",
    "    \"\"\"Finalize all values that are the only choice for a unit.\n",
    "\n",
    "    Go through all the units, and whenever there is a unit with a value\n",
    "    that only fits in one box, assign the value to this box.\n",
    "\n",
    "    Input: Sudoku in dictionary form.\n",
    "    Output: Resulting Sudoku in dictionary form after filling in only choices.\n",
    "    \"\"\"\n",
    "    for unit in unitlist:\n",
    "        for digit in '123456789':\n",
    "            dplaces = [box for box in unit if digit in values[box]]\n",
    "            if len(dplaces) == 1:\n",
    "                values[dplaces[0]] = digit\n",
    "    return values\n",
    "\n",
    "\n",
    "# Uncommand and run the code below if you want to see the result\n",
    "# Make sure to **comment** the code below before submitting your code.\n",
    "\n",
    "values = {'B8': '278', 'H1': '8', 'C7': '4', 'B3': '47', 'D3': '8', 'G9': '47', 'G8': '1478', 'B9': '1', 'A3': '3', 'G7': '5', 'G6': '9', 'G5': '478', 'G4': '6', 'G3': '2', 'G2': '1347', 'G1': '134', 'B5': '47', 'I1': '46', 'I3': '5', 'I2': '4679', 'I5': '1', 'I4': '4', 'I7': '3', 'I6': '47', 'A1': '45', 'C9': '2357', 'C8': '23579', 'A5': '2', 'E8': '13456', 'A7': '6', 'A6': '147', 'E5': '34569', 'C2': '257', 'C1': '25', 'E6': '4', 'E1': '7', 'A2': '4578', 'C5': '79', 'A4': '49', 'I9': '2467', 'B2': '24678', 'I8': '24678', 'H2': '1467', 'D9': '34567', 'F2': '13459', 'D5': '3456', 'C3': '1', 'A9': '57', 'C6': '6', 'E4': '459', 'B1': '9', 'E7': '1', 'F1': '1345', 'H8': '1467', 'H9': '9', 'F4': '7', 'F5': '3459', 'F6': '8', 'F7': '2', 'F8': '1345', 'H3': '47', 'F3': '6', 'H6': '3', 'H7': '17', 'H4': '2', 'H5': '457', 'B4': '3', 'A8': '5789', 'B6': '5', 'B7': '78', 'E9': '8', 'E3': '49', 'D8': '34567', 'F9': '345', 'D6': '2', 'D7': '9', 'D4': '1', 'C4': '8', 'D2': '345', 'E2': '123459', 'D1': '345'}\n",
    "for _ in range(81):\n",
    "    old_values = values.copy()\n",
    "    values = only_choice(values)\n",
    "    if values == old_values:\n",
    "        break\n",
    "\n",
    "display(only_choice(values))"
   ]
  },
  {
   "cell_type": "code",
   "execution_count": 5,
   "metadata": {
    "edited": true,
    "gradable": true,
    "grader_id": "ngl1njvx9yo",
    "udacity_user_query": ""
   },
   "outputs": [],
   "source": [
    "from utils import *\n",
    "\n",
    "def grid_values(grid):\n",
    "    \"\"\"Convert grid string into {<box>: <value>} dict with '123456789' value for empties.\n",
    "\n",
    "    Args:\n",
    "        grid: Sudoku grid in string form, 81 characters long\n",
    "    Returns:\n",
    "        Sudoku grid in dictionary form:\n",
    "        - keys: Box labels, e.g. 'A1'\n",
    "        - values: Value in corresponding box, e.g. '8', or '123456789' if it is empty.\n",
    "    \"\"\"\n",
    "    values = []\n",
    "    all_digits = '123456789'\n",
    "    for c in grid:\n",
    "        if c == '.':\n",
    "            values.append(all_digits)\n",
    "        elif c in all_digits:\n",
    "            values.append(c)\n",
    "    assert len(values) == 81\n",
    "    result = dict(zip(boxes, values))\n",
    "    return result\n",
    "\n",
    "# Ucomment and run the code below to view your result.\n",
    "# Make sure to **comment** the code below before submitting your code.\n",
    "\n",
    "# grid = '..3.2.6..9..3.5..1..18.64....81.29..7.......8..67.82....26.95..8..2.3..9..5.1.3..'\n",
    "# output = grid_values(grid)\n",
    "# display(output)"
   ]
  },
  {
   "cell_type": "code",
   "execution_count": 6,
   "metadata": {
    "edited": true,
    "gradable": true,
    "grader_id": "8k2agry8m07",
    "udacity_user_query": ""
   },
   "outputs": [
    {
     "name": "stdout",
     "output_type": "stream",
     "text": [
      "Input grid:\n",
      "123456789 123456789     3     |123456789     2     123456789 |    6     123456789 123456789 \n",
      "    9     123456789 123456789 |    3     123456789     5     |123456789 123456789     1     \n",
      "123456789 123456789     1     |    8     123456789     6     |    4     123456789 123456789 \n",
      "------------------------------+------------------------------+------------------------------\n",
      "123456789 123456789     8     |    1     123456789     2     |    9     123456789 123456789 \n",
      "    7     123456789 123456789 |123456789 123456789 123456789 |123456789 123456789     8     \n",
      "123456789 123456789     6     |    7     123456789     8     |    2     123456789 123456789 \n",
      "------------------------------+------------------------------+------------------------------\n",
      "123456789 123456789     2     |    6     123456789     9     |    5     123456789 123456789 \n",
      "    8     123456789 123456789 |    2     123456789     3     |123456789 123456789     9     \n",
      "123456789 123456789     5     |123456789     1     123456789 |    3     123456789 123456789 \n",
      "\n",
      "Output grid:\n",
      "   45    4578    3   |   49     2     147  |   6     5789    57  \n",
      "   9    24678    47  |   3      47     5   |   78    278     1   \n",
      "   25    257     1   |   8      79     6   |   4    23579   2357 \n",
      "---------------------+---------------------+---------------------\n",
      "  345    345     8   |   1     3456    2   |   9    34567  34567 \n",
      "   7    123459   49  |  459   34569    4   |   1    13456    8   \n",
      "  1345  13459    6   |   7     3459    8   |   2     1345   345  \n",
      "---------------------+---------------------+---------------------\n",
      "  134    1347    2   |   6     478     9   |   5     1478    47  \n",
      "   8     1467    47  |   2     457     3   |   17    1467    9   \n",
      "   46    4679    5   |   4      1      47  |   3    24678   2467 \n"
     ]
    }
   ],
   "source": [
    "from utils import *\n",
    "from copy import deepcopy\n",
    "\n",
    "def eliminate(values):\n",
    "    \"\"\"Eliminate values from peers of each box with a single value.\n",
    "\n",
    "    Go through all the boxes, and whenever there is a box with a single value,\n",
    "    eliminate this value from the set of values of all its peers.\n",
    "\n",
    "    Args:\n",
    "        values: Sudoku in dictionary form.\n",
    "    Returns:\n",
    "        Resulting Sudoku in dictionary form after eliminating values.\n",
    "    \"\"\"\n",
    "    solved_values = [box for box in values.keys() if len(values[box]) == 1]\n",
    "    for box in solved_values:\n",
    "        digit = values[box]\n",
    "        # peers is a dictionary defined in the utils.py file in the workspace\n",
    "        for peer in peers[box]:\n",
    "            values[peer] = values[peer].replace(digit,'')\n",
    "    return values\n",
    "\n",
    "\n",
    "# Ucomment and run the code below to view your result.\n",
    "# Make sure to **comment** the code below before submitting your code.\n",
    "# from copy import deepcopy\n",
    "\n",
    "grid = {'A1': '123456789', 'A2': '123456789', 'A3': '3', 'A4': '123456789', 'A5': '2', 'A6': '123456789', 'A7': '6', 'A8': '123456789', 'A9': '123456789', 'B1': '9', 'B2': '123456789', 'B3': '123456789', 'B4': '3', 'B5': '123456789', 'B6': '5', 'B7': '123456789', 'B8': '123456789', 'B9': '1', 'C1': '123456789', 'C2': '123456789', 'C3': '1', 'C4': '8', 'C5': '123456789', 'C6': '6', 'C7': '4', 'C8': '123456789', 'C9': '123456789', 'D1': '123456789', 'D2': '123456789', 'D3': '8', 'D4': '1', 'D5': '123456789', 'D6': '2', 'D7': '9', 'D8': '123456789', 'D9': '123456789', 'E1': '7', 'E2': '123456789', 'E3': '123456789', 'E4': '123456789', 'E5': '123456789', 'E6': '123456789', 'E7': '123456789', 'E8': '123456789', 'E9': '8', 'F1': '123456789', 'F2': '123456789', 'F3': '6', 'F4': '7', 'F5': '123456789', 'F6': '8', 'F7': '2', 'F8': '123456789', 'F9': '123456789', 'G1': '123456789', 'G2': '123456789', 'G3': '2', 'G4': '6', 'G5': '123456789', 'G6': '9', 'G7': '5', 'G8': '123456789', 'G9': '123456789', 'H1': '8', 'H2': '123456789', 'H3': '123456789', 'H4': '2', 'H5': '123456789', 'H6': '3', 'H7': '123456789', 'H8': '123456789', 'H9': '9', 'I1': '123456789', 'I2': '123456789', 'I3': '5', 'I4': '123456789', 'I5': '1', 'I6': '123456789', 'I7': '3', 'I8': '123456789', 'I9': '123456789'}\n",
    "trial = eliminate(deepcopy(grid))\n",
    "for i in trial:\n",
    "    trial[i] = ''.join(sorted(trial[i]))\n",
    "\n",
    "print(\"Input grid:\")\n",
    "display(grid)\n",
    "print(\"\\nOutput grid:\")\n",
    "display(trial)"
   ]
  },
  {
   "cell_type": "code",
   "execution_count": 7,
   "metadata": {
    "grader_id": "h8qmbszznkm"
   },
   "outputs": [
    {
     "name": "stdout",
     "output_type": "stream",
     "text": [
      "4 8 3 |9 2 1 |6 5 7 \n",
      "9 6 7 |3 4 5 |8 2 1 \n",
      "2 5 1 |8 7 6 |4 9 3 \n",
      "------+------+------\n",
      "5 4 8 |1 3 2 |9 7 6 \n",
      "7 2 9 |5 6 4 |1 3 8 \n",
      "1 3 6 |7 9 8 |2 4 5 \n",
      "------+------+------\n",
      "3 7 2 |6 8 9 |5 1 4 \n",
      "8 1 4 |2 5 3 |7 6 9 \n",
      "6 9 5 |4 1 7 |3 8 2 \n"
     ]
    }
   ],
   "source": [
    "from utils import *\n",
    "\n",
    "def reduce_puzzle(values):\n",
    "    stalled = False\n",
    "    while not stalled:\n",
    "        # Check how many boxes have a determined value\n",
    "        solved_values_before = len([box for box in values.keys() if len(values[box]) == 1])\n",
    "        # Use the Eliminate Strategy\n",
    "        values = eliminate(values)\n",
    "        # Use the Only Choice Strategy\n",
    "        values = only_choice(values)\n",
    "        # Check how many boxes have a determined value, to compare\n",
    "        solved_values_after = len([box for box in values.keys() if len(values[box]) == 1])\n",
    "        # If no new values were added, stop the loop.\n",
    "        stalled = solved_values_before == solved_values_after\n",
    "        # Sanity check, return False if there is a box with zero available values:\n",
    "        if len([box for box in values.keys() if len(values[box]) == 0]):\n",
    "            return False\n",
    "    return values\n",
    "\n",
    "\n",
    "# Uncomment and run the code below to see the result\n",
    "# Make sure to comment the code below before submitting your code.\n",
    "grid = {'I6': '123456789', 'H9': '9', 'I2': '123456789', 'E8': '123456789', 'H3': '123456789', 'H7': '123456789', 'I7': '3', 'I4': '123456789', 'H5': '123456789', 'F9': '123456789', 'G7': '5', 'G6': '9', 'G5': '123456789', 'E1': '7', 'G3': '2', 'G2': '123456789', 'G1': '123456789', 'I1': '123456789', 'C8': '123456789', 'I3': '5', 'E5': '123456789', 'I5': '1', 'C9': '123456789', 'G9': '123456789', 'G8': '123456789', 'A1': '123456789', 'A3': '3', 'A2': '123456789', 'A5': '2', 'A4': '123456789', 'A7': '6', 'A6': '123456789', 'C3': '1', 'C2': '123456789', 'C1': '123456789', 'E6': '123456789', 'C7': '4', 'C6': '6', 'C5': '123456789', 'C4': '8', 'I9': '123456789', 'D8': '123456789', 'I8': '123456789', 'E4': '123456789', 'D9': '123456789', 'H8': '123456789', 'F6': '8', 'A9': '123456789', 'G4': '6', 'A8': '123456789', 'E7': '123456789', 'E3': '123456789', 'F1': '123456789', 'F2': '123456789', 'F3': '6', 'F4': '7', 'F5': '123456789', 'E2': '123456789', 'F7': '2', 'F8': '123456789', 'D2': '123456789', 'H1': '8', 'H6': '3', 'H2': '123456789', 'H4': '2', 'D3': '8', 'B4': '3', 'B5': '123456789', 'B6': '5', 'B7': '123456789', 'E9': '8', 'B1': '9', 'B2': '123456789', 'B3': '123456789', 'D6': '2', 'D7': '9', 'D4': '1', 'D5': '123456789', 'B8': '123456789', 'B9': '1', 'D1': '123456789'}\n",
    "display(reduce_puzzle(grid))"
   ]
  },
  {
   "cell_type": "code",
   "execution_count": 8,
   "metadata": {},
   "outputs": [
    {
     "name": "stdout",
     "output_type": "stream",
     "text": [
      "4 1 7 |3 6 9 |8 2 5 \n",
      "6 3 2 |1 5 8 |9 4 7 \n",
      "9 5 8 |7 2 4 |3 1 6 \n",
      "------+------+------\n",
      "8 2 5 |4 3 7 |1 6 9 \n",
      "7 9 1 |5 8 6 |4 3 2 \n",
      "3 4 6 |9 1 2 |7 5 8 \n",
      "------+------+------\n",
      "2 8 9 |6 4 3 |5 7 1 \n",
      "5 7 3 |2 9 1 |6 8 4 \n",
      "1 6 4 |8 7 5 |2 9 3 \n"
     ]
    }
   ],
   "source": [
    "from utils import *\n",
    "\n",
    "def search(values):\n",
    "    '''\n",
    "    \"Using depth-first search and propagation, create a search tree and solve the sudoku.\"\n",
    "    '''\n",
    "    # First, reduce the puzzle using the previous function\n",
    "    values = reduce_puzzle(values)\n",
    "    if values is False:\n",
    "        return False ## Failed earlier\n",
    "    if all(len(values[s]) == 1 for s in boxes): \n",
    "        return values ## Solved!\n",
    "    # Choose one of the unfilled squares with the fewest possibilities\n",
    "    n,s = min((len(values[s]), s) for s in boxes if len(values[s]) > 1)\n",
    "    \n",
    "    # Now use recurrence to solve each one of the resulting sudokus, and \n",
    "    for value in values[s]:\n",
    "        new_sudoku = values.copy()\n",
    "        new_sudoku[s] = value\n",
    "        attempt = search(new_sudoku)\n",
    "        if attempt:\n",
    "            return attempt\n",
    "\n",
    "\n",
    "        \n",
    "# Uncomment the code below to view your result.\n",
    "# Make sure to **comment** the code below before submitting your result\n",
    "grid = {'I6': '123456789', 'H9': '123456789', 'I2': '123456789', 'E8': '123456789', 'H3': '123456789', 'H7': '123456789', 'I7': '123456789', 'I4': '123456789', 'H5': '123456789', 'F9': '123456789', 'G7': '123456789', 'G6': '3', 'G5': '123456789', 'E1': '123456789', 'G3': '123456789', 'G2': '123456789', 'G1': '123456789', 'I1': '1', 'C8': '123456789', 'I3': '4', 'E5': '8', 'I5': '123456789', 'C9': '123456789', 'G9': '123456789', 'G8': '7', 'A1': '4', 'A3': '123456789', 'A2': '123456789', 'A5': '123456789', 'A4': '123456789', 'A7': '8', 'A6': '123456789', 'C3': '123456789', 'C2': '123456789', 'C1': '123456789', 'E6': '123456789', 'C7': '123456789', 'C6': '123456789', 'C5': '123456789', 'C4': '7', 'I9': '123456789', 'D8': '6', 'I8': '123456789', 'E4': '123456789', 'D9': '123456789', 'H8': '123456789', 'F6': '123456789', 'A9': '5', 'G4': '6', 'A8': '123456789', 'E7': '4', 'E3': '123456789', 'F1': '123456789', 'F2': '123456789', 'F3': '123456789', 'F4': '123456789', 'F5': '1', 'E2': '123456789', 'F7': '123456789', 'F8': '123456789', 'D2': '2', 'H1': '5', 'H6': '123456789', 'H2': '123456789', 'H4': '2', 'D3': '123456789', 'B4': '123456789', 'B5': '123456789', 'B6': '123456789', 'B7': '123456789', 'E9': '123456789', 'B1': '123456789', 'B2': '3', 'B3': '123456789', 'D6': '123456789', 'D7': '123456789', 'D4': '123456789', 'D5': '123456789', 'B8': '123456789', 'B9': '123456789', 'D1': '123456789'}\n",
    "display(search(grid))"
   ]
  }
 ],
 "metadata": {
  "grader_mode": "",
  "kernelspec": {
   "display_name": "ml",
   "language": "python",
   "name": "python3"
  },
  "language_info": {
   "codemirror_mode": {
    "name": "ipython",
    "version": 3
   },
   "file_extension": ".py",
   "mimetype": "text/x-python",
   "name": "python",
   "nbconvert_exporter": "python",
   "pygments_lexer": "ipython3",
   "version": "3.12.5"
  },
  "showGradeBtn": true
 },
 "nbformat": 4,
 "nbformat_minor": 2
}
